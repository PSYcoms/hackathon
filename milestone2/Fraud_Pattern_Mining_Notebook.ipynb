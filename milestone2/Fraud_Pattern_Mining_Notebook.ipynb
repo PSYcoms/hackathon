{
 "cells": [
  {
   "cell_type": "markdown",
   "id": "8a64160a",
   "metadata": {},
   "source": [
    "# 🚨 Fraud Pattern Mining and JS Rule Generation (Databricks Ready)"
   ]
  },
  {
   "cell_type": "code",
   "execution_count": null,
   "id": "f7c9a54a",
   "metadata": {},
   "outputs": [],
   "source": [
    "\n",
    "import json\n",
    "import pandas as pd\n",
    "\n",
    "def flatten(d, parent_key='', sep='.'):\n",
    "    items = []\n",
    "    for k, v in d.items():\n",
    "        new_key = f\"{parent_key}{sep}{k}\" if parent_key else k\n",
    "        if isinstance(v, dict):\n",
    "            items.extend(flatten(v, new_key, sep=sep).items())\n",
    "        else:\n",
    "            items.append((new_key, str(v)))\n",
    "    return dict(items)\n",
    "\n",
    "# Load fraud JSON file\n",
    "with open(\"/dbfs/FileStore/tables/confirmed_fraud_payloads.json\", \"r\") as f:\n",
    "    data = json.load(f)\n",
    "\n",
    "# Flatten payloads\n",
    "flat_data = [flatten(txn['data']['attributes']['activity']['payload']) for txn in data]\n",
    "df = pd.DataFrame(flat_data).fillna(\"null\")\n",
    "df.shape\n"
   ]
  },
  {
   "cell_type": "markdown",
   "id": "c4c3db1c",
   "metadata": {},
   "source": [
    "## 🧠 Frequent Pattern Mining (FP-Growth)"
   ]
  },
  {
   "cell_type": "code",
   "execution_count": null,
   "id": "41183b97",
   "metadata": {},
   "outputs": [],
   "source": [
    "\n",
    "from mlxtend.preprocessing import TransactionEncoder\n",
    "from mlxtend.frequent_patterns import fpgrowth\n",
    "\n",
    "# Convert each row to a transaction of feature=value\n",
    "transactions = []\n",
    "for _, row in df.iterrows():\n",
    "    txn = [f\"{col}={val}\" for col, val in row.items()]\n",
    "    transactions.append(txn)\n",
    "\n",
    "te = TransactionEncoder()\n",
    "te_ary = te.fit(transactions).transform(transactions)\n",
    "df_tf = pd.DataFrame(te_ary, columns=te.columns_)\n",
    "\n",
    "# Run FP-Growth\n",
    "frequent_itemsets = fpgrowth(df_tf, min_support=0.3, use_colnames=True)\n",
    "frequent_itemsets = frequent_itemsets.sort_values(by='support', ascending=False)\n",
    "frequent_itemsets.head(10)\n"
   ]
  },
  {
   "cell_type": "markdown",
   "id": "0c2748f9",
   "metadata": {},
   "source": [
    "## 🛠️ Generate JavaScript Rules"
   ]
  },
  {
   "cell_type": "code",
   "execution_count": null,
   "id": "773bc947",
   "metadata": {},
   "outputs": [],
   "source": [
    "\n",
    "# Convert frequent patterns into JS rules\n",
    "js_rules = []\n",
    "for _, row in frequent_itemsets.iterrows():\n",
    "    conditions = []\n",
    "    for item in row['itemsets']:\n",
    "        key, val = item.split('=')\n",
    "        conditions.append(f\"transaction['{key}'] === '{val}'\")\n",
    "    rule = \"if (\" + \" && \".join(conditions) + \") { flagAsFraud(); }\"\n",
    "    js_rules.append(rule)\n",
    "\n",
    "# Output first few rules\n",
    "for rule in js_rules[:10]:\n",
    "    print(rule)\n"
   ]
  },
  {
   "cell_type": "code",
   "execution_count": null,
   "id": "715e157f",
   "metadata": {},
   "outputs": [],
   "source": [
    "def execute_js_rules(transaction_json, js_rules):\n",
    "    results = []\n",
    "\n",
    "    for rule in js_rules:\n",
    "        is_fraud = False\n",
    "        def flagAsFraud():\n",
    "            nonlocal is_fraud\n",
    "            is_fraud = True\n",
    "\n",
    "        try:\n",
    "            js_func = js2py.eval_js(rule)\n",
    "            js_func(transaction_json, flagAsFraud)\n",
    "        except Exception as e:\n",
    "            print(f\"Error executing rule:\\n{rule}\\nReason: {e}\")\n",
    "            continue\n",
    "\n",
    "        if is_fraud:\n",
    "            results.append(rule)\n",
    "\n",
    "    return results\n"
   ]
  },
  {
   "cell_type": "code",
   "execution_count": null,
   "id": "bbc7b050",
   "metadata": {},
   "outputs": [],
   "source": [
    "import json\n",
    "from collections import defaultdict\n",
    "\n",
    "def score_rules(log_file_path=\"rule_decision_log.jsonl\", window=10):\n",
    "    rule_stats = defaultdict(lambda: {'hits': 0, 'misses': 0})\n",
    "\n",
    "    with open(log_file_path, 'r') as f:\n",
    "        lines = f.readlines()[-window:]  # only last N\n",
    "        for line in lines:\n",
    "            record = json.loads(line)\n",
    "            true_fraud = record.get('is_fraud', False)\n",
    "            fired_rules = record.get('rules_fired', [])\n",
    "            for rule in fired_rules:\n",
    "                if true_fraud:\n",
    "                    rule_stats[rule]['hits'] += 1\n",
    "                else:\n",
    "                    rule_stats[rule]['misses'] += 1\n",
    "\n",
    "    # Score = precision: hits / (hits + misses)\n",
    "    rule_scores = {}\n",
    "    for rule, stats in rule_stats.items():\n",
    "        total = stats['hits'] + stats['misses']\n",
    "        precision = stats['hits'] / total if total else 0\n",
    "        rule_scores[rule] = {\"precision\": round(precision, 2), \"total\": total}\n",
    "\n",
    "    return rule_scores"
   ]
  },
  {
   "cell_type": "code",
   "execution_count": null,
   "id": "85824620",
   "metadata": {},
   "outputs": [],
   "source": [
    "import json\n",
    "from datetime import datetime\n",
    "\n",
    "def append_to_rule_log(transaction_json, rules_fired, is_fraud, log_path=\"rule_decision_log.jsonl\"):\n",
    "    log_entry = {\n",
    "        \"timestamp\": str(datetime.utcnow()),\n",
    "        \"transactionId\": transaction_json.get(\"transactionId\", \"N/A\"),\n",
    "        \"transactionAmount\": transaction_json.get(\"transactionAmount\", \"N/A\"),\n",
    "        \"is_fraud\": is_fraud,\n",
    "        \"rules_fired\": rules_fired\n",
    "    }\n",
    "    \n",
    "    with open(log_path, \"a\") as f:\n",
    "        f.write(json.dumps(log_entry) + \"\\n\")\n",
    "    \n",
    "    print(f\"✅ Logged transaction {log_entry['transactionId']} with {len(rules_fired)} rule(s) fired.\")"
   ]
  }
 ],
 "metadata": {
  "language_info": {
   "name": "python"
  }
 },
 "nbformat": 4,
 "nbformat_minor": 5
}
